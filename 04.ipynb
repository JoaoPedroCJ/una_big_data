{
 "metadata": {
  "language_info": {
   "codemirror_mode": {
    "name": "ipython",
    "version": 3
   },
   "file_extension": ".py",
   "mimetype": "text/x-python",
   "name": "python",
   "nbconvert_exporter": "python",
   "pygments_lexer": "ipython3",
   "version": "3.8.5-final"
  },
  "orig_nbformat": 2,
  "kernelspec": {
   "name": "python_defaultSpec_1598315406503",
   "display_name": "Python 3.8.5 64-bit"
  }
 },
 "nbformat": 4,
 "nbformat_minor": 2,
 "cells": [
  {
   "cell_type": "markdown",
   "metadata": {},
   "source": [
    "# Criar tabela Categoria:"
   ]
  },
  {
   "cell_type": "code",
   "execution_count": 1,
   "metadata": {},
   "outputs": [],
   "source": [
    "# Importar biblioteca pyodbc:\n",
    "import pyodbc"
   ]
  },
  {
   "cell_type": "code",
   "execution_count": 4,
   "metadata": {},
   "outputs": [],
   "source": [
    "class ConexaoDB():\n",
    "    def conexao(self):\n",
    "        return pyodbc.connect(driver='{SQL Server}', server='localhost', pwd='Un4Docker', uid='sa', database='empresa')\n",
    "\n",
    "bd = ConexaoDB()\n",
    "conexao = bd.conexao()"
   ]
  },
  {
   "cell_type": "code",
   "execution_count": 27,
   "metadata": {
    "tags": []
   },
   "outputs": [
    {
     "output_type": "stream",
     "name": "stdout",
     "text": "(1, 'Teste', 'testando')\n"
    }
   ],
   "source": [
    "class Categoria:\n",
    "    def __init__ (self, conexao):\n",
    "        self.conexao = conexao\n",
    "\n",
    "    def criar (self):\n",
    "        ddl = '''\n",
    "            create table Categoria (\n",
    "                id int primary key identity (1, 1), -- identity (inicio, incremento): especifica o valor inicial e de incremento.\n",
    "                nome varchar (32),\n",
    "                descricao text\n",
    "            );\n",
    "        '''\n",
    "        with self.conexao:\n",
    "            self.conexao.execute (ddl)\n",
    "\n",
    "    def listar (self):\n",
    "        cursor = self.conexao.cursor()\n",
    "        cursor.execute ('select * from Categoria')\n",
    "\n",
    "        for line in cursor:\n",
    "            print(line)\n",
    "\n",
    "categoria = Categoria (conexao)\n",
    "#categoria.criar()\n",
    "categoria.listar()"
   ]
  },
  {
   "cell_type": "code",
   "execution_count": 16,
   "metadata": {},
   "outputs": [],
   "source": [
    "class Vendedor:\n",
    "    def __init__ (self, conexao):\n",
    "        self.conexao = conexao\n",
    "\n",
    "    def criar (self):\n",
    "        ddl = '''\n",
    "            create table Vendedor (\n",
    "                cpf varchar (14) primary key,\n",
    "                nome varchar (128),\n",
    "                email varchar (128),\n",
    "                telefone varchar (20),\n",
    "                endereco varchar (256)\n",
    "            );\n",
    "        '''\n",
    "        with self.conexao:\n",
    "            self.conexao.execute (ddl)\n",
    "\n",
    "    def listar (self):\n",
    "        cursor = self.conexao.cursor()\n",
    "        cursor.execute ('select * from Vendedor')\n",
    "\n",
    "        for line in cursor:\n",
    "            print(line)\n",
    "\n",
    "    \n",
    "\n",
    "vendedor = Vendedor (conexao)\n",
    "#vendedor.criar()\n",
    "vendedor.listar()"
   ]
  },
  {
   "cell_type": "code",
   "execution_count": 20,
   "metadata": {},
   "outputs": [],
   "source": [
    "class Produto:\n",
    "    def __init__ (self, conexao):\n",
    "        self.conexao = conexao\n",
    "\n",
    "    def criar (self):\n",
    "        ddl = '''\n",
    "            create table Produto (\n",
    "                id int primary key identity (1, 1),\n",
    "                nome varchar (128),\n",
    "                descricao text,\n",
    "                marca varchar (32),\n",
    "                id_categoria int foreign key references Categoria (id)\n",
    "            );\n",
    "        '''\n",
    "        with self.conexao:\n",
    "            self.conexao.execute (ddl)\n",
    "\n",
    "    def listar (self):\n",
    "        cursor = self.conexao.cursor()\n",
    "        cursor.execute ('select * from Produto')\n",
    "\n",
    "        for line in cursor:\n",
    "            print(line)\n",
    "\n",
    "\n",
    "\n",
    "\n",
    "produto = Produto (conexao)\n",
    "#produto.criar()\n",
    "produto.listar()"
   ]
  },
  {
   "cell_type": "code",
   "execution_count": 24,
   "metadata": {},
   "outputs": [],
   "source": [
    "class VendedorProduto:\n",
    "    def __init__ (self, conexao):\n",
    "        self.conexao = conexao\n",
    "\n",
    "    def criar (self):\n",
    "        ddl = '''\n",
    "            create table VendedorProduto (\n",
    "                id int primary key identity (1, 1),\n",
    "                cpf_vendedor varchar (14) foreign key references Vendedor (cpf),\n",
    "                id_produto int foreign key references Produto (id),\n",
    "                quantidade int,\n",
    "                preco decimal\n",
    "            );\n",
    "        '''\n",
    "        with self.conexao:\n",
    "            self.conexao.execute (ddl)\n",
    "\n",
    "    def listar (self):\n",
    "        cursor = self.conexao.cursor()\n",
    "        cursor.execute ('select * from VendedorProduto')\n",
    "\n",
    "        for line in cursor:\n",
    "            print(line)\n",
    "\n",
    "vendedorProduto = VendedorProduto (conexao)\n",
    "#vendedorProduto.criar()\n",
    "vendedorProduto.listar()"
   ]
  },
  {
   "cell_type": "code",
   "execution_count": null,
   "metadata": {},
   "outputs": [],
   "source": []
  }
 ]
}