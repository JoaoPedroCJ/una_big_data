{
 "metadata": {
  "language_info": {
   "codemirror_mode": {
    "name": "ipython",
    "version": 3
   },
   "file_extension": ".py",
   "mimetype": "text/x-python",
   "name": "python",
   "nbconvert_exporter": "python",
   "pygments_lexer": "ipython3",
   "version": "3.8.5-final"
  },
  "orig_nbformat": 2,
  "kernelspec": {
   "name": "python_defaultSpec_1598912456633",
   "display_name": "Python 3.8.5 64-bit"
  }
 },
 "nbformat": 4,
 "nbformat_minor": 2,
 "cells": [
  {
   "cell_type": "markdown",
   "metadata": {},
   "source": [
    "# Inserir na Tabela Categoria\n"
   ]
  },
  {
   "cell_type": "code",
   "execution_count": 1,
   "metadata": {},
   "outputs": [],
   "source": [
    "# Importar biblioteca pyodbc:\n",
    "import pyodbc"
   ]
  },
  {
   "cell_type": "code",
   "execution_count": 2,
   "metadata": {},
   "outputs": [],
   "source": [
    "# Classe para conexão com o banco de dados:\n",
    "\n",
    "class ConexaoBD():\n",
    "    def conectar(self):\n",
    "        return pyodbc.connect(driver='{SQL Server}', server='localhost', pwd='Un4Docker', uid='sa', database='empresa')"
   ]
  },
  {
   "cell_type": "code",
   "execution_count": 3,
   "metadata": {},
   "outputs": [],
   "source": [
    "# Instanciar um objeto da classe para conexão com o banco de dados:\n",
    "\n",
    "bd = ConexaoBD ()\n",
    "\n",
    "# Pegar uma conexão com o banco de dados:\n",
    "\n",
    "conexao = bd.conectar ()"
   ]
  },
  {
   "cell_type": "code",
   "execution_count": 5,
   "metadata": {},
   "outputs": [],
   "source": [
    "# Classe Categoria:\n",
    "\n",
    "class Categoria:\n",
    "    def __init__ (self, conexao):\n",
    "        self.conexao = conexao\n",
    "\n",
    "    def inserir (self):\n",
    "        dml = \"insert into Categoria (nome, descricao) values ('celulares', 'telefones celulares');\"\n",
    "        with self.conexao:\n",
    "            cursor = self.conexao.cursor ()\n",
    "            cursor.execute (dml)\n",
    "            # self.conexao.commit ()\n",
    "            sql = \"select * from Categoria;\"\n",
    "            cursor.execute (sql)\n",
    "            linha = cursor.fetchone ()\n",
    "            return linha"
   ]
  },
  {
   "cell_type": "code",
   "execution_count": 20,
   "metadata": {
    "tags": []
   },
   "outputs": [
    {
     "output_type": "stream",
     "name": "stdout",
     "text": "[(1, 'Informatica', 'Notebook'), (2, 'celulares', 'telefones celulares'), (3, 'Informatica', 'Monitor'), (4, 'Eletronicos', 'TV'), (5, 'Games', 'xbox'), (6, 'Games', 'PS4'), (7, 'Games', 'Nintendo Switch'), (8, '', '')]\n"
    }
   ],
   "source": [
    "# Instaciar objeto da classe Categoria:\n",
    "\n",
    "categoria = Categoria (conexao)\n",
    "\n",
    "# Inserir um registro no banco de dados:\n",
    "\n",
    "linha = categoria.inserir ()\n",
    "\n",
    "# Apresentar na tela o registro inserido no banco de dados:\n",
    "\n",
    "print (linha)"
   ]
  },
  {
   "cell_type": "code",
   "execution_count": 14,
   "metadata": {},
   "outputs": [],
   "source": [
    "# Classe Categoria:\n",
    "class Categoria:\n",
    "    def __init__ (self, conexao):\n",
    "        self.conexao = conexao\n",
    "\n",
    "    def inserir (self):\n",
    "        dml = \"insert into Categoria (nome, descricao) values (?, ?);\"\n",
    "        nome = input (\"Informe o nome da categoria: \")\n",
    "        descricao = input (\"Informe a descrição da categoria: \")\n",
    "\n",
    "        with self.conexao:\n",
    "            cursor = self.conexao.cursor ()\n",
    "            cursor.execute (dml, nome, descricao)\n",
    "            # self.conexao.commit ()\n",
    "            sql = \"select * from Categoria;\"\n",
    "            cursor.execute (sql)\n",
    "            linhas = cursor.fetchall ()\n",
    "            return linhas"
   ]
  },
  {
   "cell_type": "code",
   "execution_count": null,
   "metadata": {},
   "outputs": [],
   "source": [
    "# Instaciar objeto da classe Categoria:\n",
    "\n",
    "categoria = Categoria (conexao)\n",
    "\n",
    "# Inserir um registro no banco de dados:\n",
    "\n",
    "linha = categoria.inserir ()\n",
    "\n",
    "# Apresentar na tela o registro inserido no banco de dados:\n",
    "\n",
    "print (linha)"
   ]
  },
  {
   "cell_type": "code",
   "execution_count": 24,
   "metadata": {},
   "outputs": [],
   "source": [
    "# Classe Categoria:\n",
    "\n",
    "class Categoria:\n",
    "    def __init__ (self, conexao):\n",
    "        self.conexao = conexao\n",
    "\n",
    "    def inserir (self):\n",
    "        dml = \"insert into Categoria (nome, descricao) values (?, ?);\"\n",
    "        parametros = [\n",
    "            ('livros', 'livros impressos'),\n",
    "            ('eletroeletrônicos', 'dispositivos eletroeletrônicos'),\n",
    "            ('alimentos', 'alimentos não perecíveis')\n",
    "        ]\n",
    "        with self.conexao:\n",
    "            cursor = self.conexao.cursor ()\n",
    "            cursor.executemany (dml, parametros)\n",
    "            # self.conexao.commit ()\n",
    "            sql = \"select * from Categoria;\"\n",
    "            cursor.execute (sql)\n",
    "            linha = cursor.fetchall ()\n",
    "            return linha"
   ]
  },
  {
   "cell_type": "code",
   "execution_count": 28,
   "metadata": {
    "tags": []
   },
   "outputs": [
    {
     "output_type": "stream",
     "name": "stdout",
     "text": "[('turismo', 'turismo regional')]\n[('turismo', 'turismo regional'), ('alimentos', 'alimentos não pereciveis')]\n[('turismo', 'turismo regional'), ('alimentos', 'alimentos não pereciveis'), ('', '')]\n[('turismo', 'turismo regional'), ('alimentos', 'alimentos não pereciveis'), ('', ''), ('', '')]\n[('turismo', 'turismo regional'), ('alimentos', 'alimentos não pereciveis'), ('', ''), ('', ''), ('', '')]\n[('turismo', 'turismo regional'), ('alimentos', 'alimentos não pereciveis'), ('', ''), ('', ''), ('', ''), ('', '')]\n[('turismo', 'turismo regional'), ('alimentos', 'alimentos não pereciveis'), ('', ''), ('', ''), ('', ''), ('', ''), ('', '')]\n[('turismo', 'turismo regional'), ('alimentos', 'alimentos não pereciveis'), ('', ''), ('', ''), ('', ''), ('', ''), ('', ''), ('', '')]\n[('turismo', 'turismo regional'), ('alimentos', 'alimentos não pereciveis'), ('', ''), ('', ''), ('', ''), ('', ''), ('', ''), ('', ''), ('', '')]\n[('turismo', 'turismo regional'), ('alimentos', 'alimentos não pereciveis'), ('', ''), ('', ''), ('', ''), ('', ''), ('', ''), ('', ''), ('', ''), ('', '')]\n[(1, 'Informatica', 'Notebook'), (2, 'celulares', 'telefones celulares'), (3, 'Informatica', 'Monitor'), (4, 'Eletronicos', 'TV'), (5, 'Games', 'xbox'), (6, 'Games', 'PS4'), (7, 'Games', 'Nintendo Switch'), (8, '', ''), (9, '', ''), (10, 'livros', 'livros impressos'), (11, 'eletroeletrônicos', 'dispositivos eletroeletrônicos'), (12, 'alimentos', 'alimentos não perecíveis'), (13, 'turismo', 'turismo regional'), (14, 'alimentos', 'alimentos não pereciveis'), (15, '', ''), (16, '', ''), (17, '', ''), (18, '', ''), (19, '', ''), (20, '', ''), (21, '', ''), (22, '', '')]\n"
    }
   ],
   "source": [
    "# Instaciar objeto da classe Categoria:\n",
    "\n",
    "categoria = Categoria (conexao)\n",
    "\n",
    "# Inserir um registro no banco de dados:\n",
    "\n",
    "linha = categoria.inserir ()\n",
    "\n",
    "# Apresentar na tela o registro inserido no banco de dados:\n",
    "\n",
    "print (linha)"
   ]
  },
  {
   "cell_type": "code",
   "execution_count": 27,
   "metadata": {},
   "outputs": [],
   "source": [
    "# Classe Categoria:\n",
    "class Categoria:\n",
    "    def __init__ (self, conexao):\n",
    "        self.conexao = conexao\n",
    "\n",
    "    def valores (self):\n",
    "        parametros = []\n",
    "        while True:\n",
    "            nome = input (\"Informe o nome da categoria: \")\n",
    "            descricao = input (\"Informe a descrição da categoria: \")\n",
    "            parametros.append ((nome, descricao))\n",
    "            print (parametros)\n",
    "            resp = input (\"Deseja informar outro registro? (s/n)\")\n",
    "            if (resp == \"n\"):\n",
    "                break\n",
    "        return parametros\n",
    "\n",
    "    def inserir (self):\n",
    "        dml = \"insert into Categoria (nome, descricao) values (?, ?);\"\n",
    "        parametros = self.valores ()\n",
    "        with self.conexao:\n",
    "            cursor = self.conexao.cursor ()\n",
    "            cursor.executemany (dml, parametros)\n",
    "            # self.conexao.commit ()\n",
    "            sql = \"select * from Categoria;\"\n",
    "            cursor.execute (sql)\n",
    "            linha = cursor.fetchall ()\n",
    "            return linha"
   ]
  },
  {
   "cell_type": "code",
   "execution_count": null,
   "metadata": {},
   "outputs": [],
   "source": [
    "# Instaciar objeto da classe Categoria:\n",
    "\n",
    "categoria = Categoria (conexao)\n",
    "\n",
    "# Inserir um registro no banco de dados:\n",
    "\n",
    "linha = categoria.inserir ()\n",
    "\n",
    "# Apresentar na tela o registro inserido no banco de dados:\n",
    "\n",
    "print (linha)"
   ]
  },
  {
   "cell_type": "code",
   "execution_count": 29,
   "metadata": {},
   "outputs": [],
   "source": [
    "# Classe Categoria:\n",
    "class Categoria:\n",
    "    def __init__ (self, conexao):\n",
    "        self.conexao = conexao\n",
    "\n",
    "    def inserir (self):\n",
    "        dml = \"insert into Categoria (nome, descricao) values ('cozinha', 'utensílios de cozinha'\n",
    "        );\"\n",
    "\n",
    "        with self.conexao:\n",
    "            cursor = self.conexao.cursor ()\n",
    "            cursor.execute (dml)\n",
    "            # self.conexao.commit ()\n",
    "            sql = \"select cast (scope_identity () as int);\"\n",
    "            cursor.execute (sql)\n",
    "            id = cursor.fetchone ()[0]\n",
    "\n",
    "            return id"
   ]
  },
  {
   "cell_type": "code",
   "execution_count": 30,
   "metadata": {
    "tags": []
   },
   "outputs": [
    {
     "output_type": "stream",
     "name": "stdout",
     "text": "23\n"
    }
   ],
   "source": [
    "# Instaciar objeto da classe Categoria:\n",
    "\n",
    "categoria = Categoria (conexao)\n",
    "\n",
    "# Inserir um registro no banco de dados:\n",
    "\n",
    "linha = categoria.inserir ()\n",
    "\n",
    "# Apresentar na tela o registro inserido no banco de dados:\n",
    "\n",
    "print (linha)"
   ]
  },
  {
   "cell_type": "code",
   "execution_count": 38,
   "metadata": {},
   "outputs": [],
   "source": [
    "# Classe Categoria:\n",
    "class Categoria:\n",
    "    def __init__ (self, conexao):\n",
    "        self.conexao = conexao\n",
    "\n",
    "    def insert (self):\n",
    "        dml = \"insert into Categoria (nome, descricao) values (?, ?);\"\n",
    "        nome = input (\"Informe o nome da categoria: \")\n",
    "        descricao = input (\"Informe a descrição da categoria: \")\n",
    "\n",
    "        with self.conexao:\n",
    "            cursor = self.conexao.cursor ()\n",
    "            cursor.execute (dml, nome, descricao)\n",
    "            # self.conexao.commit ()\n",
    "            sql = \"select * from Categoria;\"\n",
    "            cursor.execute (sql)\n",
    "            linhas = cursor.fetchall ()\n",
    "            return linhas\n",
    "\n",
    "    def update (self):\n",
    "        dml = \"update Categoria set descricao = ? where id = ?\"\n",
    "        category = input (\"Informe o código da categoria que quer editar: \")\n",
    "        description = input (\"Informe a nova descrição da categoria: \")\n",
    "\n",
    "        with self.conexao:\n",
    "            cursor = self.conexao.cursor ()\n",
    "            cursor.execute(dml, description, category)\n",
    "            sql = \"select * from Categoria;\"\n",
    "            cursor.execute (sql)\n",
    "            linhas = cursor.fetchall ()\n",
    "            return linhas\n",
    "\n",
    "    def delete (self):\n",
    "        dml = \"delete from Categoria where id = ?\"\n",
    "        category = input (\"Informe o código da categoria que quer deletar: \")\n",
    "\n",
    "        with self.conexao:\n",
    "            cursor = self.conexao.cursor ()\n",
    "            cursor.execute(dml, category)\n",
    "            sql = \"select * from Categoria;\"\n",
    "            cursor.execute (sql)\n",
    "            linhas = cursor.fetchall ()\n",
    "            return linhas"
   ]
  },
  {
   "cell_type": "code",
   "execution_count": 33,
   "metadata": {
    "tags": []
   },
   "outputs": [
    {
     "output_type": "stream",
     "name": "stdout",
     "text": "[(1, 'Informatica', 'Notebook'), (2, 'celulares', 'telefones celulares'), (3, 'Informatica', 'Monitor'), (4, 'Eletronicos', 'TV'), (5, 'Games', 'xbox'), (6, 'Games', 'PS4'), (7, 'Games', 'Nintendo Switch'), (10, 'livros', 'livros impressos'), (11, 'eletroeletrônicos', 'dispositivos eletroeletrônicos'), (12, 'alimentos', 'alimentos não perecíveis'), (13, 'turismo', 'turismo regional'), (14, 'alimentos', 'alimentos não pereciveis'), (23, 'cozinha', 'utensílios de cozinha'), (24, 'Padaria', 'Pão')]\n"
    }
   ],
   "source": [
    "categoria = Categoria (conexao)\n",
    "\n",
    "linha = categoria.insert ()\n",
    "\n",
    "print (linha)"
   ]
  },
  {
   "cell_type": "code",
   "execution_count": 36,
   "metadata": {
    "tags": []
   },
   "outputs": [
    {
     "output_type": "stream",
     "name": "stdout",
     "text": "[(1, 'Informatica', 'Notebook'), (2, 'celulares', 'telefones celulares'), (3, 'Informatica', 'Monitor'), (4, 'Eletronicos', 'TV'), (5, 'Games', 'xbox'), (6, 'Games', 'PS4'), (7, 'Games', 'Nintendo Switch'), (10, 'livros', 'livros impressos'), (11, 'eletroeletrônicos', 'dispositivos eletroeletrônicos'), (12, 'alimentos', 'alimentos não perecíveis'), (13, 'turismo', 'turismo regional'), (14, 'alimentos', 'alimentos não pereciveis'), (23, 'cozinha', 'utensílios de cozinha'), (24, 'Padaria', 'Pães')]\n"
    }
   ],
   "source": [
    "categoria = Categoria (conexao)\n",
    "\n",
    "linha = categoria.update ()\n",
    "\n",
    "print (linha)"
   ]
  },
  {
   "cell_type": "code",
   "execution_count": 39,
   "metadata": {
    "tags": []
   },
   "outputs": [
    {
     "output_type": "stream",
     "name": "stdout",
     "text": "[(1, 'Informatica', 'Notebook'), (2, 'celulares', 'telefones celulares'), (3, 'Informatica', 'Monitor'), (4, 'Eletronicos', 'TV'), (6, 'Games', 'PS4'), (7, 'Games', 'Nintendo Switch'), (10, 'livros', 'livros impressos'), (11, 'eletroeletrônicos', 'dispositivos eletroeletrônicos'), (12, 'alimentos', 'alimentos não perecíveis'), (13, 'turismo', 'turismo regional'), (14, 'alimentos', 'alimentos não pereciveis'), (23, 'cozinha', 'utensílios de cozinha'), (24, 'Padaria', 'Pães')]\n"
    }
   ],
   "source": [
    "categoria = Categoria (conexao)\n",
    "\n",
    "linha = categoria.delete ()\n",
    "\n",
    "print (linha)"
   ]
  },
  {
   "cell_type": "code",
   "execution_count": null,
   "metadata": {},
   "outputs": [],
   "source": [
    "# Classe Produto:\n",
    "class Produto:\n",
    "    def __init__ (self, conexao):\n",
    "        self.conexao = conexao\n",
    "\n",
    "    def listAll (self):\n",
    "        with self.conexao:\n",
    "            cursor = self.conexao.cursor ()\n",
    "            sql = \"select * from Produto;\"\n",
    "            cursor.execute (sql)\n",
    "            linhas = cursor.fetchall ()\n",
    "            return linhas\n",
    "\n",
    "    def insert (self):\n",
    "        dml = \"insert into Produto (nome, descricao, marca, id_categoria) values (?, ?, ?, ?);\"\n",
    "        nome = input (\"Informe o nome do produto: \")\n",
    "        descricao = input (\"Informe a descrição do produto: \")\n",
    "        marca = input (\"Informe a marca do produto: \")\n",
    "        id_categoria = input (\"Informe o código da categoria: \")\n",
    "\n",
    "        with self.conexao:\n",
    "            cursor = self.conexao.cursor ()\n",
    "            cursor.execute (dml, nome, descricao, marca, id_categoria)\n",
    "            # self.conexao.commit ()\n",
    "            sql = \"select * from Produto;\"\n",
    "            cursor.execute (sql)\n",
    "            linhas = cursor.fetchall ()\n",
    "            return linhas\n",
    "\n",
    "    def update (self):\n",
    "        dml = \"update Produto set descricao = ? where id = ?\"\n",
    "        produto = input (\"Informe o código do produto que quer editar: \")\n",
    "        description = input (\"Informe a nova descrição do produto: \")\n",
    "\n",
    "        with self.conexao:\n",
    "            cursor = self.conexao.cursor ()\n",
    "            cursor.execute(dml, description, produto)\n",
    "            sql = \"select * from Produto;\"\n",
    "            cursor.execute (sql)\n",
    "            linhas = cursor.fetchall ()\n",
    "            return linhas\n",
    "\n",
    "    def delete (self):\n",
    "        dml = \"delete from Produto where id = ?\"\n",
    "        category = input (\"Informe o código do produto que quer deletar: \")\n",
    "\n",
    "        with self.conexao:\n",
    "            cursor = self.conexao.cursor ()\n",
    "            cursor.execute(dml, category)\n",
    "            sql = \"select * from Produto;\"\n",
    "            cursor.execute (sql)\n",
    "            linhas = cursor.fetchall ()\n",
    "            return linhas"
   ]
  },
  {
   "cell_type": "code",
   "execution_count": null,
   "metadata": {},
   "outputs": [],
   "source": [
    "# Classe Vendedor:\n",
    "class Vendedor:\n",
    "    def __init__ (self, conexao):\n",
    "        self.conexao = conexao\n",
    "\n",
    "    def listAll (self):\n",
    "        with self.conexao:\n",
    "            cursor = self.conexao.cursor ()\n",
    "            sql = \"select * from Vendedor;\"\n",
    "            cursor.execute (sql)\n",
    "            linhas = cursor.fetchall ()\n",
    "            return linhas\n",
    "\n",
    "    def insert (self):\n",
    "        dml = \"insert into Vendedor (cpf, nome, email, telefone, endereco) values (?, ?, ?, ?, ?);\"\n",
    "        cpf = input (\"Informe o CPF do vendedor: \")\n",
    "        nome = input (\"Informe o nome do vendedor: \")\n",
    "        email = input (\"Informe o email do vendedor: \")\n",
    "        telefone = input (\"Informe a telefone do vendedor: \")\n",
    "        endereco = input (\"Informe o endereco do vendedor: \")\n",
    "\n",
    "        with self.conexao:\n",
    "            cursor = self.conexao.cursor ()\n",
    "            cursor.execute (dml, cpf, nome, email, telefone, endereco)\n",
    "            # self.conexao.commit ()\n",
    "            sql = \"select * from Vendedor;\"\n",
    "            cursor.execute (sql)\n",
    "            linhas = cursor.fetchall ()\n",
    "            return linhas\n",
    "\n",
    "    def update (self):\n",
    "        dml = \"update Vendedor set endereco = ? where id = ?\"\n",
    "        codigo = input (\"Informe o código do vendedor que quer editar: \")\n",
    "        endereco = input (\"Informe o novo endereço do vendedor: \")\n",
    "\n",
    "        with self.conexao:\n",
    "            cursor = self.conexao.cursor ()\n",
    "            cursor.execute(dml, endereco, codigo)\n",
    "            sql = \"select * from Vendedor;\"\n",
    "            cursor.execute (sql)\n",
    "            linhas = cursor.fetchall ()\n",
    "            return linhas\n",
    "\n",
    "    def delete (self):\n",
    "        dml = \"delete from Vendedor where id = ?\"\n",
    "        category = input (\"Informe o código do vendedor que quer deletar: \")\n",
    "\n",
    "        with self.conexao:\n",
    "            cursor = self.conexao.cursor ()\n",
    "            cursor.execute(dml, category)\n",
    "            sql = \"select * from Vendedor;\"\n",
    "            cursor.execute (sql)\n",
    "            linhas = cursor.fetchall ()\n",
    "            return linhas"
   ]
  },
  {
   "cell_type": "code",
   "execution_count": null,
   "metadata": {},
   "outputs": [],
   "source": [
    "# Classe Produto:\n",
    "class VendedorProduto:\n",
    "    def __init__ (self, conexao):\n",
    "        self.conexao = conexao\n",
    "\n",
    "    def listAll (self):\n",
    "        with self.conexao:\n",
    "            cursor = self.conexao.cursor ()\n",
    "            sql = \"select * from VendedorProduto;\"\n",
    "            cursor.execute (sql)\n",
    "            linhas = cursor.fetchall ()\n",
    "            return linhas\n",
    "\n",
    "    def insert (self):\n",
    "        dml = \"insert into VendedorProduto (cpf_vendedor, id_produto, quantidade, preco) values (?, ?, ?, ?);\"\n",
    "        cpf_vendedor = input (\"Informe o CPF do vendedor: \")\n",
    "        id_produto = input (\"Informe o código do produto: \")\n",
    "        quantidade = input (\"Informe quantidade do produto: \")\n",
    "        preco = input (\"Informe o preço do produto: \")\n",
    "\n",
    "        with self.conexao:\n",
    "            cursor = self.conexao.cursor ()\n",
    "            cursor.execute (dml, cpf_vendedor, id_produto, quantidade, preco)\n",
    "            # self.conexao.commit ()\n",
    "            sql = \"select * from VendedorProduto;\"\n",
    "            cursor.execute (sql)\n",
    "            linhas = cursor.fetchall ()\n",
    "            return linhas\n",
    "\n",
    "    def update (self):\n",
    "        dml = \"update VendedorProduto set quantidade = ? where id = ?\"\n",
    "        venda = input (\"Informe o código da venda que quer editar: \")\n",
    "        quantidade = input (\"Informe a nova quantidade do produto: \")\n",
    "\n",
    "        with self.conexao:\n",
    "            cursor = self.conexao.cursor ()\n",
    "            cursor.execute(dml, quantidade, venda)\n",
    "            sql = \"select * from VendedorProduto;\"\n",
    "            cursor.execute (sql)\n",
    "            linhas = cursor.fetchall ()\n",
    "            return linhas\n",
    "\n",
    "    def delete (self):\n",
    "        dml = \"delete from VendedorProduto where id = ?\"\n",
    "        codigo = input (\"Informe o código da venda que quer deletar: \")\n",
    "\n",
    "        with self.conexao:\n",
    "            cursor = self.conexao.cursor ()\n",
    "            cursor.execute(dml, codigo)\n",
    "            sql = \"select * from VendedorProduto;\"\n",
    "            cursor.execute (sql)\n",
    "            linhas = cursor.fetchall ()\n",
    "            return linhas"
   ]
  }
 ]
}